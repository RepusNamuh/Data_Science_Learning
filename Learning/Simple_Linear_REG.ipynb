{
 "cells": [
  {
   "cell_type": "code",
   "execution_count": null,
   "metadata": {},
   "outputs": [],
   "source": [
    "import sys\n",
    "\n",
    "sys.path.append(r\"f:\\\\Data_Science_Learning\")"
   ]
  },
  {
   "cell_type": "code",
   "execution_count": 16,
   "metadata": {},
   "outputs": [
    {
     "data": {
      "image/png": "[encoded data removed]",
      "text/plain": [
       "<Figure size 640x480 with 1 Axes>"
      ]
     },
     "metadata": {},
     "output_type": "display_data"
    }
   ],
   "source": [
    "import random\n",
    "from matplotlib import pyplot as plt\n",
    "\n",
    "beta = random.random()\n",
    "alpha = random.randint(0, 100)\n",
    "num_friends = [random.randint(0, 50) for _ in range(200)]\n",
    "\n",
    "daily_minutes = list(num * beta + alpha for num in num_friends)\n",
    "\n",
    "plt.scatter(num_friends, daily_minutes)\n",
    "plt.title(\"Daily Minutes vs. Number of Friends\")\n",
    "plt.xlabel(\"# of friends\")\n",
    "plt.ylabel(\"daily minutes spent on the site\")\n",
    "plt.show()"
   ]
  },
  {
   "cell_type": "markdown",
   "metadata": {},
   "source": [
    "# The Model"
   ]
  },
  {
   "cell_type": "code",
   "execution_count": 17,
   "metadata": {},
   "outputs": [],
   "source": [
    "import library.Linear_Algebra as LA\n",
    "\n",
    "def predict(alpha: float, beta: float, x_i: float) -> float:\n",
    "    return beta * x_i + alpha\n",
    "\n",
    "def predict_error(alpha: float, beta: float, x_i: float, y_i: float) -> float:\n",
    "    return y_i - predict(alpha, beta, x_i)\n",
    "\n",
    "def sum_of_squared_errors(alpha: float, beta: float, x: LA.Vector, y: LA.Vector) -> float:\n",
    "    return sum(predict_error(alpha, beta, x_i, y_i) ** 2 for x_i, y_i in zip(x, y))"
   ]
  },
  {
   "cell_type": "code",
   "execution_count": 18,
   "metadata": {},
   "outputs": [],
   "source": [
    "from typing import Tuple\n",
    "import library.Statistics as Stats\n",
    "\n",
    "def least_squares_fit(x: LA.Vector, y: LA.Vector) -> Tuple[float, float]:\n",
    "    beta = Stats.covariance(x, y)/Stats.variance(x)\n",
    "    alpha = Stats.mean(y) - beta * Stats.mean(x)\n",
    "    return alpha, beta"
   ]
  },
  {
   "cell_type": "code",
   "execution_count": 19,
   "metadata": {},
   "outputs": [
    {
     "name": "stdout",
     "output_type": "stream",
     "text": [
      "(-5.0, 3.0)\n"
     ]
    }
   ],
   "source": [
    "x = [i for i in range(-100, 110, 10)]\n",
    "y = [3*i - 5 for i in x]\n",
    "\n",
    "print(least_squares_fit(x, y))"
   ]
  },
  {
   "cell_type": "code",
   "execution_count": 20,
   "metadata": {},
   "outputs": [
    {
     "name": "stdout",
     "output_type": "stream",
     "text": [
      "44.0 0.877293485186912\n"
     ]
    }
   ],
   "source": [
    "alpha, beta = least_squares_fit(num_friends, daily_minutes)\n",
    "print(alpha, beta)"
   ]
  },
  {
   "cell_type": "code",
   "execution_count": 21,
   "metadata": {},
   "outputs": [],
   "source": [
    "def total_sum_of_squares(y: LA.Vector) -> float:\n",
    "    return sum(v ** 2 for v in Stats.de_mean(y))\n",
    "\n",
    "def r_squared(alpha: float, beta: float, x: LA.Vector, y: LA.Vector) -> float:\n",
    "    \"\"\" \n",
    "    the fraction of variation in y captured by the model, which equals \n",
    "    1 - fraction of variation in y not captured by the model\n",
    "    \"\"\"\n",
    "    return 1.0 - (sum_of_squared_errors(alpha, beta, x, y) / total_sum_of_squares(y))"
   ]
  },
  {
   "cell_type": "markdown",
   "metadata": {},
   "source": [
    "# Using Gradient Descent"
   ]
  },
  {
   "cell_type": "code",
   "execution_count": 22,
   "metadata": {},
   "outputs": [
    {
     "ename": "ModuleNotFoundError",
     "evalue": "No module named 'Linear_Algebra'",
     "output_type": "error",
     "traceback": [
      "\u001b[31m---------------------------------------------------------------------------\u001b[39m",
      "\u001b[31mModuleNotFoundError\u001b[39m                       Traceback (most recent call last)",
      "\u001b[36mCell\u001b[39m\u001b[36m \u001b[39m\u001b[32mIn[22]\u001b[39m\u001b[32m, line 4\u001b[39m\n\u001b[32m      1\u001b[39m \u001b[38;5;28;01mimport\u001b[39;00m\u001b[38;5;250m \u001b[39m\u001b[34;01mrandom\u001b[39;00m\n\u001b[32m      2\u001b[39m \u001b[38;5;28;01mimport\u001b[39;00m\u001b[38;5;250m \u001b[39m\u001b[34;01mtqdm\u001b[39;00m\n\u001b[32m----> \u001b[39m\u001b[32m4\u001b[39m \u001b[38;5;28;01mimport\u001b[39;00m\u001b[38;5;250m \u001b[39m\u001b[34;01mlibrary\u001b[39;00m\u001b[34;01m.\u001b[39;00m\u001b[34;01mGradientDescent\u001b[39;00m\u001b[38;5;250m \u001b[39m\u001b[38;5;28;01mas\u001b[39;00m\u001b[38;5;250m \u001b[39m\u001b[34;01mGD\u001b[39;00m\n\u001b[32m      6\u001b[39m num_epochs = \u001b[32m10000\u001b[39m\n\u001b[32m      7\u001b[39m random.seed(\u001b[32m0\u001b[39m)\n",
      "\u001b[36mFile \u001b[39m\u001b[32mf:\\Data_Science_Learning\\Learning\\..\\library\\GradientDescent.py:1\u001b[39m\n\u001b[32m----> \u001b[39m\u001b[32m1\u001b[39m \u001b[38;5;28;01mfrom\u001b[39;00m\u001b[38;5;250m \u001b[39m\u001b[34;01mLinear_Algebra\u001b[39;00m\u001b[38;5;250m \u001b[39m\u001b[38;5;28;01mimport\u001b[39;00m Vector, dot, distance, scalar_multiply, add, vector_mean\n\u001b[32m      2\u001b[39m \u001b[38;5;28;01mfrom\u001b[39;00m\u001b[38;5;250m \u001b[39m\u001b[34;01mtyping\u001b[39;00m\u001b[38;5;250m \u001b[39m\u001b[38;5;28;01mimport\u001b[39;00m Callable, TypeVar, List, Iterator\n\u001b[32m      3\u001b[39m \u001b[38;5;28;01mimport\u001b[39;00m\u001b[38;5;250m \u001b[39m\u001b[34;01mrandom\u001b[39;00m\n",
      "\u001b[31mModuleNotFoundError\u001b[39m: No module named 'Linear_Algebra'"
     ]
    }
   ],
   "source": [
    "import random\n",
    "import tqdm\n",
    "\n",
    "import library.GradientDescent as GD\n",
    "\n",
    "num_epochs = 10000\n",
    "random.seed(0)\n",
    "\n",
    "guess = [random.random(), random.random()]\n",
    "learning_rate = 0.001\n",
    "n = len(num_friends)\n",
    "\n",
    "with tqdm.trange(num_epochs) as t:\n",
    "    for _ in t:\n",
    "        alpha, beta = guess\n",
    "\n",
    "        # Partial derivative of loss with respect to alpha\n",
    "        grad_a = 2 * sum((predict_error(alpha, beta, x_i, y_i)) \n",
    "                     for x_i, y_i in zip(num_friends, daily_minutes)) / n\n",
    "        \n",
    "        grad_b = 2 * sum((predict_error(alpha, beta, x_i, y_i) * x_i)\n",
    "                     for x_i, y_i in zip(num_friends, daily_minutes))/n\n",
    "        \n",
    "    \n",
    "        mean_loss = sum_of_squared_errors(alpha, beta, num_friends, daily_minutes)/n\n",
    "\n",
    "        t.set_description(f\"loss: {mean_loss:.3f}\")\n",
    "        # Finally, update the guess\n",
    "        guess = GD.gradient_step(guess, [grad_a, grad_b], learning_rate)\n",
    "\n",
    "print(guess)"
   ]
  }
 ],
 "metadata": {
  "kernelspec": {
   "display_name": "datasci",
   "language": "python",
   "name": "python3"
  },
  "language_info": {
   "codemirror_mode": {
    "name": "ipython",
    "version": 3
   },
   "file_extension": ".py",
   "mimetype": "text/x-python",
   "name": "python",
   "nbconvert_exporter": "python",
   "pygments_lexer": "ipython3",
   "version": "3.13.5"
  }
 },
 "nbformat": 4,
 "nbformat_minor": 2
}
