{
 "cells": [
  {
   "cell_type": "code",
   "execution_count": null,
   "metadata": {},
   "outputs": [],
   "source": [
    "import sys\n",
    "\n",
    "sys.path.append(r\"e:\\Data_Science\")\n",
    "from library import GradientDescent as gd\n",
    "from library.Linear_Algebra import vector_mean\n",
    "import random"
   ]
  },
  {
   "cell_type": "code",
   "execution_count": null,
   "metadata": {},
   "outputs": [],
   "source": [
    "v = [random.uniform(-10, 10) for i in range (3)]\n",
    "\n",
    "for epoch in range(1000):\n",
    "    grad = gd.sum_of_squares_gradient(v)\n",
    "    v = gd.gradient_step(v, grad, -0.01)\n",
    "    print(epoch, v)\n",
    "\n",
    "assert gd.distance(v, [0, 0, 0]) < 0.001\n"
   ]
  },
  {
   "cell_type": "code",
   "execution_count": null,
   "metadata": {},
   "outputs": [],
   "source": [
    "inputs = [(x, 20 * x + 5) for x in range(-50, 50)]\n",
    "\n",
    "theta = [random.uniform(-1, 1), random.uniform(-1, 1)]\n",
    "\n",
    "learning_rate = 0.001\n",
    "\n",
    "for epoch in range(5000):\n",
    "    grad = vector_mean([gd.linear_gradient(x, y, theta) for x, y in inputs])\n",
    "\n",
    "    theta = gd.gradient_step(theta, grad, -learning_rate)\n",
    "    print(epoch, theta)\n",
    "\n",
    "slope, intercept = theta\n",
    "assert 19.9 < slope < 20.1, \"slope should be about 20\"\n",
    "assert 4.9 < intercept < 5.1, \"intercept should be about 5\""
   ]
  },
  {
   "cell_type": "code",
   "execution_count": null,
   "metadata": {},
   "outputs": [],
   "source": [
    "from typing import TypeVar, List, Iterator\n",
    "\n",
    "T = TypeVar('T')  # this allows us to type \"generic\" functions\n",
    "\n",
    "theta = [random.uniform(-1, 1), random.uniform(-1, 1)]\n",
    "\n",
    "count = 0\n",
    "for epoch in range(1000):\n",
    "    for batch in gd.minibatches(inputs, batch_size=20):\n",
    "        grad = vector_mean([gd.linear_gradient(x, y, theta) for x, y in batch])\n",
    "        theta = gd.gradient_step(theta, grad, -learning_rate)\n",
    "        count += 1\n",
    "    print(count, theta)\n",
    "\n",
    "\n"
   ]
  },
  {
   "cell_type": "code",
   "execution_count": null,
   "metadata": {},
   "outputs": [],
   "source": []
  }
 ],
 "metadata": {
  "kernelspec": {
   "display_name": "env",
   "language": "python",
   "name": "python3"
  },
  "language_info": {
   "codemirror_mode": {
    "name": "ipython",
    "version": 3
   },
   "file_extension": ".py",
   "mimetype": "text/x-python",
   "name": "python",
   "nbconvert_exporter": "python",
   "pygments_lexer": "ipython3",
   "version": "3.12.1"
  }
 },
 "nbformat": 4,
 "nbformat_minor": 2
}
