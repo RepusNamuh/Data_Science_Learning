{
 "cells": [
  {
   "cell_type": "markdown",
   "metadata": {},
   "source": [
    "# Describing a Single Set of Data"
   ]
  },
  {
   "cell_type": "code",
   "execution_count": 10,
   "metadata": {},
   "outputs": [
    {
     "name": "stdout",
     "output_type": "stream",
     "text": [
      "sys.path: ['C:\\\\Users\\\\congl\\\\AppData\\\\Local\\\\Programs\\\\Python\\\\Python312\\\\python312.zip', 'C:\\\\Users\\\\congl\\\\AppData\\\\Local\\\\Programs\\\\Python\\\\Python312\\\\DLLs', 'C:\\\\Users\\\\congl\\\\AppData\\\\Local\\\\Programs\\\\Python\\\\Python312\\\\Lib', 'C:\\\\Users\\\\congl\\\\AppData\\\\Local\\\\Programs\\\\Python\\\\Python312', 'e:\\\\Data_Science\\\\env', '', 'e:\\\\Data_Science\\\\env\\\\Lib\\\\site-packages', 'e:\\\\Data_Science\\\\env\\\\Lib\\\\site-packages\\\\win32', 'e:\\\\Data_Science\\\\env\\\\Lib\\\\site-packages\\\\win32\\\\lib', 'e:\\\\Data_Science\\\\env\\\\Lib\\\\site-packages\\\\Pythonwin', 'e:\\\\Data_Science\\\\Learning', 'e:\\\\Data_Science\\\\Learning', 'e:\\\\Data_Science\\\\Learning\\\\library', 'e:\\\\Data_Science\\\\Learning', 'e:\\\\Data_Science\\\\Learning\\\\library', 'e:\\\\Data_Science\\\\Learning', 'e:\\\\Data_Science\\\\Learning', 'e:\\\\Data_Science\\\\library', 'e:\\\\Data_Science\\\\Learning', 'e:\\\\Data_Science\\\\Learning', 'e:\\\\Data_Science\\\\Learning']\n"
     ]
    }
   ],
   "source": [
    "import os\n",
    "import sys\n",
    "\n",
    "sys.path.append(os.path.abspath(\".\"))\n",
    "# Get the path to the 'library' folder\n",
    "library_path = os.path.abspath(os.path.join(os.getcwd(), '..', 'library'))\n",
    "\n",
    "# Append the 'library' folder to sys.path\n",
    "if library_path not in sys.path:\n",
    "    sys.path.append(library_path)\n"
   ]
  },
  {
   "cell_type": "code",
   "metadata": {
    "ExecuteTime": {
     "end_time": "2024-07-28T10:50:20.984059Z",
     "start_time": "2024-07-28T10:50:20.766705Z"
    }
   },
   "source": [
    "import random\n",
    "num_friends = [random.randint(0, 100) for _ in range(1000)]\n",
    "\n",
    "from collections import Counter\n",
    "import matplotlib.pyplot as plt\n",
    "\n",
    "friend_counts = Counter(num_friends)\n",
    "xs = range(101)\n",
    "ys = [friend_counts[x] for x in xs]\n",
    "plt.bar(xs, ys)\n",
    "plt.axis([0, 101, 0, 25])\n",
    "plt.title(\"Historgram of Friend Counts\")\n",
    "plt.xlabel(\"# of friends\")\n",
    "plt.ylabel(\"# of people\")\n",
    "plt.show()\n",
    "\n",
    "num_points = len(num_friends)\n",
    "\n",
    "largest_value = max(num_friends)\n",
    "smallest_value = min(num_friends)\n",
    "\n",
    "sorted_values = sorted(num_friends)\n",
    "smallest_value = sorted_values[0]\n",
    "second_smallest_value = sorted_values[1]\n",
    "second_largest_value = sorted_values[-2]\n"
   ],
   "outputs": [
    {
     "data": {
      "text/plain": [
       "<Figure size 640x480 with 1 Axes>"
      ],
      "image/png": "[encoded data removed]"
     },
     "metadata": {},
     "output_type": "display_data"
    }
   ],
   "execution_count": 2
  },
  {
   "cell_type": "markdown",
   "metadata": {},
   "source": [
    "# Central Tendencies"
   ]
  },
  {
   "cell_type": "code",
   "metadata": {
    "ExecuteTime": {
     "end_time": "2024-07-28T10:50:25.559015Z",
     "start_time": "2024-07-28T10:50:25.554985Z"
    }
   },
   "source": [
    "from library.Statistics import mean, median, mode, quantile\n",
    "\n",
    "print(mean(num_friends))\n",
    "print(median(num_friends))\n",
    "print(quantile(num_friends, 0.1))\n",
    "print(quantile(num_friends, 0.5))\n",
    "print(quantile(num_friends, 0.9))\n",
    "print(mode(num_friends))"
   ],
   "outputs": [
    {
     "name": "stdout",
     "output_type": "stream",
     "text": [
      "50.26\n",
      "51.0\n",
      "7\n",
      "51\n",
      "91\n",
      "[91]\n"
     ]
    }
   ],
   "execution_count": 3
  },
  {
   "cell_type": "markdown",
   "metadata": {},
   "source": [
    "# Dispersion"
   ]
  },
  {
   "cell_type": "code",
   "metadata": {
    "ExecuteTime": {
     "end_time": "2024-07-28T10:50:28.311911Z",
     "start_time": "2024-07-28T10:50:28.307812Z"
    }
   },
   "source": [
    "from library.Statistics import data_range\n",
    "\n",
    "data_range(num_friends)\n"
   ],
   "outputs": [
    {
     "data": {
      "text/plain": [
       "100"
      ]
     },
     "execution_count": 4,
     "metadata": {},
     "output_type": "execute_result"
    }
   ],
   "execution_count": 4
  },
  {
   "cell_type": "markdown",
   "metadata": {},
   "source": [
    "## Variance\n",
    "    A more complex measure of dispersion"
   ]
  },
  {
   "cell_type": "code",
   "metadata": {
    "ExecuteTime": {
     "end_time": "2024-07-28T10:50:34.599883Z",
     "start_time": "2024-07-28T10:50:34.596077Z"
    }
   },
   "source": [
    "from library import Statistics as stats\n",
    "\n",
    "stats.variance(num_friends)"
   ],
   "outputs": [
    {
     "data": {
      "text/plain": [
       "887.2976976976969"
      ]
     },
     "execution_count": 5,
     "metadata": {},
     "output_type": "execute_result"
    }
   ],
   "execution_count": 5
  },
  {
   "cell_type": "code",
   "metadata": {
    "ExecuteTime": {
     "end_time": "2024-07-28T10:50:37.761163Z",
     "start_time": "2024-07-28T10:50:37.756417Z"
    }
   },
   "source": [
    "from library.Statistics import standard_deviation\n",
    "\n",
    "standard_deviation(num_friends)"
   ],
   "outputs": [
    {
     "data": {
      "text/plain": [
       "29.787542659603474"
      ]
     },
     "execution_count": 6,
     "metadata": {},
     "output_type": "execute_result"
    }
   ],
   "execution_count": 6
  },
  {
   "cell_type": "code",
   "metadata": {
    "ExecuteTime": {
     "end_time": "2024-07-28T10:50:40.447585Z",
     "start_time": "2024-07-28T10:50:40.442924Z"
    }
   },
   "source": [
    "from library.Statistics import interquartile_range\n",
    "\n",
    "interquartile_range(num_friends)"
   ],
   "outputs": [
    {
     "data": {
      "text/plain": [
       "53"
      ]
     },
     "execution_count": 7,
     "metadata": {},
     "output_type": "execute_result"
    }
   ],
   "execution_count": 7
  },
  {
   "cell_type": "code",
   "metadata": {
    "ExecuteTime": {
     "end_time": "2024-07-28T10:50:44.257889Z",
     "start_time": "2024-07-28T10:50:44.227042Z"
    }
   },
   "source": [
    "from library.Statistics import covariance\n",
    "import random\n",
    "\n",
    "daily_minutes = [100,49,41,40,25,21,21,19,19,18,18,16,15,15,15,15,14,14,13,13,13,13,12,12,11]\n",
    "covariance(num_friends, daily_minutes)"
   ],
   "outputs": [
    {
     "ename": "AssertionError",
     "evalue": "",
     "output_type": "error",
     "traceback": [
      "\u001B[1;31m---------------------------------------------------------------------------\u001B[0m",
      "\u001B[1;31mAssertionError\u001B[0m                            Traceback (most recent call last)",
      "Cell \u001B[1;32mIn[8], line 5\u001B[0m\n\u001B[0;32m      2\u001B[0m \u001B[38;5;28;01mimport\u001B[39;00m \u001B[38;5;21;01mrandom\u001B[39;00m\n\u001B[0;32m      4\u001B[0m daily_minutes \u001B[38;5;241m=\u001B[39m [\u001B[38;5;241m100\u001B[39m,\u001B[38;5;241m49\u001B[39m,\u001B[38;5;241m41\u001B[39m,\u001B[38;5;241m40\u001B[39m,\u001B[38;5;241m25\u001B[39m,\u001B[38;5;241m21\u001B[39m,\u001B[38;5;241m21\u001B[39m,\u001B[38;5;241m19\u001B[39m,\u001B[38;5;241m19\u001B[39m,\u001B[38;5;241m18\u001B[39m,\u001B[38;5;241m18\u001B[39m,\u001B[38;5;241m16\u001B[39m,\u001B[38;5;241m15\u001B[39m,\u001B[38;5;241m15\u001B[39m,\u001B[38;5;241m15\u001B[39m,\u001B[38;5;241m15\u001B[39m,\u001B[38;5;241m14\u001B[39m,\u001B[38;5;241m14\u001B[39m,\u001B[38;5;241m13\u001B[39m,\u001B[38;5;241m13\u001B[39m,\u001B[38;5;241m13\u001B[39m,\u001B[38;5;241m13\u001B[39m,\u001B[38;5;241m12\u001B[39m,\u001B[38;5;241m12\u001B[39m,\u001B[38;5;241m11\u001B[39m]\n\u001B[1;32m----> 5\u001B[0m covariance(num_friends, daily_minutes)\n",
      "File \u001B[1;32mE:\\Data_Science\\library\\Statistics.py:69\u001B[0m, in \u001B[0;36mcovariance\u001B[1;34m(xs, ys)\u001B[0m\n\u001B[0;32m     68\u001B[0m \u001B[38;5;28;01mdef\u001B[39;00m \u001B[38;5;21mcovariance\u001B[39m(xs: List[\u001B[38;5;28mfloat\u001B[39m], ys: List[\u001B[38;5;28mfloat\u001B[39m]) \u001B[38;5;241m-\u001B[39m\u001B[38;5;241m>\u001B[39m \u001B[38;5;28mfloat\u001B[39m:\n\u001B[1;32m---> 69\u001B[0m     \u001B[38;5;28;01massert\u001B[39;00m \u001B[38;5;28mlen\u001B[39m(xs) \u001B[38;5;241m==\u001B[39m \u001B[38;5;28mlen\u001B[39m(ys)\n\u001B[0;32m     71\u001B[0m     \u001B[38;5;28;01mreturn\u001B[39;00m dot(de_mean(xs), de_mean(ys)) \u001B[38;5;241m/\u001B[39m (\u001B[38;5;28mlen\u001B[39m(xs) \u001B[38;5;241m-\u001B[39m \u001B[38;5;241m1\u001B[39m)\n",
      "\u001B[1;31mAssertionError\u001B[0m: "
     ]
    }
   ],
   "execution_count": 8
  },
  {
   "cell_type": "code",
   "metadata": {
    "ExecuteTime": {
     "end_time": "2024-07-28T10:50:55.239895Z",
     "start_time": "2024-07-28T10:50:55.221350Z"
    }
   },
   "source": [
    "from library.Statistics import correlation\n",
    "\n",
    "correlation(num_friends, daily_minutes)"
   ],
   "outputs": [
    {
     "ename": "AssertionError",
     "evalue": "",
     "output_type": "error",
     "traceback": [
      "\u001B[1;31m---------------------------------------------------------------------------\u001B[0m",
      "\u001B[1;31mAssertionError\u001B[0m                            Traceback (most recent call last)",
      "Cell \u001B[1;32mIn[9], line 3\u001B[0m\n\u001B[0;32m      1\u001B[0m \u001B[38;5;28;01mfrom\u001B[39;00m \u001B[38;5;21;01mlibrary\u001B[39;00m\u001B[38;5;21;01m.\u001B[39;00m\u001B[38;5;21;01mStatistics\u001B[39;00m \u001B[38;5;28;01mimport\u001B[39;00m correlation\n\u001B[1;32m----> 3\u001B[0m correlation(num_friends, daily_minutes)\n",
      "File \u001B[1;32mE:\\Data_Science\\library\\Statistics.py:79\u001B[0m, in \u001B[0;36mcorrelation\u001B[1;34m(xs, ys)\u001B[0m\n\u001B[0;32m     76\u001B[0m stdev_y \u001B[38;5;241m=\u001B[39m standard_deviation(ys)\n\u001B[0;32m     78\u001B[0m \u001B[38;5;28;01mif\u001B[39;00m stdev_x \u001B[38;5;241m>\u001B[39m \u001B[38;5;241m0\u001B[39m \u001B[38;5;129;01mand\u001B[39;00m stdev_y \u001B[38;5;241m>\u001B[39m \u001B[38;5;241m0\u001B[39m:\n\u001B[1;32m---> 79\u001B[0m     \u001B[38;5;28;01mreturn\u001B[39;00m covariance(xs, ys) \u001B[38;5;241m/\u001B[39m stdev_x \u001B[38;5;241m/\u001B[39m stdev_y\n\u001B[0;32m     80\u001B[0m \u001B[38;5;28;01melse\u001B[39;00m:\n\u001B[0;32m     81\u001B[0m     \u001B[38;5;28;01mreturn\u001B[39;00m \u001B[38;5;241m0\u001B[39m\n",
      "File \u001B[1;32mE:\\Data_Science\\library\\Statistics.py:69\u001B[0m, in \u001B[0;36mcovariance\u001B[1;34m(xs, ys)\u001B[0m\n\u001B[0;32m     68\u001B[0m \u001B[38;5;28;01mdef\u001B[39;00m \u001B[38;5;21mcovariance\u001B[39m(xs: List[\u001B[38;5;28mfloat\u001B[39m], ys: List[\u001B[38;5;28mfloat\u001B[39m]) \u001B[38;5;241m-\u001B[39m\u001B[38;5;241m>\u001B[39m \u001B[38;5;28mfloat\u001B[39m:\n\u001B[1;32m---> 69\u001B[0m     \u001B[38;5;28;01massert\u001B[39;00m \u001B[38;5;28mlen\u001B[39m(xs) \u001B[38;5;241m==\u001B[39m \u001B[38;5;28mlen\u001B[39m(ys)\n\u001B[0;32m     71\u001B[0m     \u001B[38;5;28;01mreturn\u001B[39;00m dot(de_mean(xs), de_mean(ys)) \u001B[38;5;241m/\u001B[39m (\u001B[38;5;28mlen\u001B[39m(xs) \u001B[38;5;241m-\u001B[39m \u001B[38;5;241m1\u001B[39m)\n",
      "\u001B[1;31mAssertionError\u001B[0m: "
     ]
    }
   ],
   "execution_count": 9
  },
  {
   "cell_type": "markdown",
   "metadata": {},
   "source": [
    "# Simpson's Paradox"
   ]
  }
 ],
 "metadata": {
  "kernelspec": {
   "display_name": "env",
   "language": "python",
   "name": "python3"
  },
  "language_info": {
   "codemirror_mode": {
    "name": "ipython",
    "version": 3
   },
   "file_extension": ".py",
   "mimetype": "text/x-python",
   "name": "python",
   "nbconvert_exporter": "python",
   "pygments_lexer": "ipython3",
   "version": "3.12.1"
  }
 },
 "nbformat": 4,
 "nbformat_minor": 2
}
