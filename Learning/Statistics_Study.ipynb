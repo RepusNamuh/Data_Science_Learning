{
 "cells": [
  {
   "cell_type": "markdown",
   "metadata": {},
   "source": [
    "# Describing a Single Set of Data"
   ]
  },
  {
   "cell_type": "code",
   "execution_count": null,
   "metadata": {},
   "outputs": [
    {
     "name": "stdout",
     "output_type": "stream",
     "text": [
      "f:\\Data_Science_Learning\\Learning\n"
     ]
    }
   ],
   "source": [
    "import os\n",
    "import sys\n",
    "\n",
    "sys.path.append(r\"f:\\Data_Science_Learning\")\n"
   ]
  },
  {
   "cell_type": "code",
   "execution_count": null,
   "metadata": {
    "ExecuteTime": {
     "end_time": "2024-07-28T10:50:20.984059Z",
     "start_time": "2024-07-28T10:50:20.766705Z"
    }
   },
   "outputs": [],
   "source": [
    "import random\n",
    "num_friends = [random.randint(0, 100) for _ in range(1000)]\n",
    "\n",
    "from collections import Counter\n",
    "import matplotlib.pyplot as plt\n",
    "\n",
    "friend_counts = Counter(num_friends)\n",
    "xs = range(101)\n",
    "ys = [friend_counts[x] for x in xs]\n",
    "plt.bar(xs, ys)\n",
    "plt.axis([0, 101, 0, 25])\n",
    "plt.title(\"Historgram of Friend Counts\")\n",
    "plt.xlabel(\"# of friends\")\n",
    "plt.ylabel(\"# of people\")\n",
    "plt.show()\n",
    "\n",
    "num_points = len(num_friends)\n",
    "\n",
    "largest_value = max(num_friends)\n",
    "smallest_value = min(num_friends)\n",
    "\n",
    "sorted_values = sorted(num_friends)\n",
    "smallest_value = sorted_values[0]\n",
    "second_smallest_value = sorted_values[1]\n",
    "second_largest_value = sorted_values[-2]\n"
   ]
  },
  {
   "cell_type": "markdown",
   "metadata": {},
   "source": [
    "# Central Tendencies"
   ]
  },
  {
   "cell_type": "code",
   "execution_count": null,
   "metadata": {
    "ExecuteTime": {
     "end_time": "2024-07-28T10:50:25.559015Z",
     "start_time": "2024-07-28T10:50:25.554985Z"
    }
   },
   "outputs": [],
   "source": [
    "from library.Statistics import mean, median, mode, quantile\n",
    "\n",
    "print(mean(num_friends))\n",
    "print(median(num_friends))\n",
    "print(quantile(num_friends, 0.1))\n",
    "print(quantile(num_friends, 0.5))\n",
    "print(quantile(num_friends, 0.9))\n",
    "print(mode(num_friends))"
   ]
  },
  {
   "cell_type": "markdown",
   "metadata": {},
   "source": [
    "# Dispersion"
   ]
  },
  {
   "cell_type": "code",
   "execution_count": null,
   "metadata": {
    "ExecuteTime": {
     "end_time": "2024-07-28T10:50:28.311911Z",
     "start_time": "2024-07-28T10:50:28.307812Z"
    }
   },
   "outputs": [],
   "source": [
    "from library.Statistics import data_range\n",
    "\n",
    "data_range(num_friends)\n"
   ]
  },
  {
   "cell_type": "markdown",
   "metadata": {},
   "source": [
    "## Variance\n",
    "    A more complex measure of dispersion"
   ]
  },
  {
   "cell_type": "code",
   "execution_count": null,
   "metadata": {
    "ExecuteTime": {
     "end_time": "2024-07-28T10:50:34.599883Z",
     "start_time": "2024-07-28T10:50:34.596077Z"
    }
   },
   "outputs": [],
   "source": [
    "print(os.getcwd()) \n",
    "\n",
    "from library import Statistics as stats\n",
    "stats.variance(num_friends)"
   ]
  },
  {
   "cell_type": "code",
   "execution_count": null,
   "metadata": {
    "ExecuteTime": {
     "end_time": "2024-07-28T10:50:37.761163Z",
     "start_time": "2024-07-28T10:50:37.756417Z"
    }
   },
   "outputs": [],
   "source": [
    "from library.Statistics import standard_deviation\n",
    "\n",
    "standard_deviation(num_friends)"
   ]
  },
  {
   "cell_type": "code",
   "execution_count": null,
   "metadata": {
    "ExecuteTime": {
     "end_time": "2024-07-28T10:50:40.447585Z",
     "start_time": "2024-07-28T10:50:40.442924Z"
    }
   },
   "outputs": [],
   "source": [
    "from library.Statistics import interquartile_range\n",
    "\n",
    "interquartile_range(num_friends)"
   ]
  },
  {
   "cell_type": "code",
   "execution_count": null,
   "metadata": {
    "ExecuteTime": {
     "end_time": "2024-07-28T10:50:44.257889Z",
     "start_time": "2024-07-28T10:50:44.227042Z"
    }
   },
   "outputs": [],
   "source": [
    "from library.Statistics import covariance\n",
    "import random\n",
    "\n",
    "daily_minutes = [100,49,41,40,25,21,21,19,19,18,18,16,15,15,15,15,14,14,13,13,13,13,12,12,11]\n",
    "covariance(num_friends, daily_minutes)"
   ]
  },
  {
   "cell_type": "code",
   "execution_count": null,
   "metadata": {
    "ExecuteTime": {
     "end_time": "2024-07-28T10:50:55.239895Z",
     "start_time": "2024-07-28T10:50:55.221350Z"
    }
   },
   "outputs": [],
   "source": [
    "from library.Statistics import correlation\n",
    "\n",
    "correlation(num_friends, daily_minutes)"
   ]
  },
  {
   "cell_type": "markdown",
   "metadata": {},
   "source": [
    "# Simpson's Paradox"
   ]
  }
 ],
 "metadata": {
  "kernelspec": {
   "display_name": "datasci",
   "language": "python",
   "name": "python3"
  },
  "language_info": {
   "codemirror_mode": {
    "name": "ipython",
    "version": 3
   },
   "file_extension": ".py",
   "mimetype": "text/x-python",
   "name": "python",
   "nbconvert_exporter": "python",
   "pygments_lexer": "ipython3",
   "version": "3.13.5"
  }
 },
 "nbformat": 4,
 "nbformat_minor": 2
}
