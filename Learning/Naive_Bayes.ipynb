{
 "cells": [
  {
   "cell_type": "code",
   "execution_count": 7,
   "metadata": {},
   "outputs": [],
   "source": [
    "import sys\n",
    "\n",
    "sys.path.append(r\"Data_Science\")"
   ]
  },
  {
   "cell_type": "markdown",
   "metadata": {},
   "source": [
    "# Spam Filter (Simple Implementation)"
   ]
  },
  {
   "cell_type": "code",
   "execution_count": 6,
   "metadata": {},
   "outputs": [
    {
     "name": "stdout",
     "output_type": "stream",
     "text": [
      "{'data', 'is', 'science'}\n"
     ]
    }
   ],
   "source": [
    "from typing import Set\n",
    "import re\n",
    "\n",
    "def tokenise(text: str) -> Set[str]:\n",
    "    text = text.lower()\n",
    "    all_words = re.findall(\"[a-z0-9']+\", text)\n",
    "    return set(all_words)\n",
    "\n",
    "print(tokenise(\"Data Science is science\"))"
   ]
  },
  {
   "cell_type": "code",
   "execution_count": 2,
   "metadata": {},
   "outputs": [],
   "source": [
    "from typing import NamedTuple\n",
    "\n",
    "class Message(NamedTuple):\n",
    "    text: str\n",
    "    is_spam: bool\n",
    "\n",
    "    "
   ]
  },
  {
   "cell_type": "code",
   "execution_count": 18,
   "metadata": {},
   "outputs": [],
   "source": [
    "from typing import List, Tuple, Dict, Iterable\n",
    "import math\n",
    "from collections import defaultdict\n",
    "\n",
    "class NaiveBayerClassifier:\n",
    "    def __init__(self, k: float = 0.5) -> None:\n",
    "        self.k = k\n",
    "        self.tokens: Set[str] = set()\n",
    "        self.token_spam_counts: Dict[str, int] = defaultdict(int)\n",
    "        self.token_ham_counts: Dict[str, int] = defaultdict(int)\n",
    "        self.spam_message = self.ham_messages = 0\n",
    "\n",
    "    def train(self, messages: Iterable[Message]) -> None:\n",
    "        for message in messages:\n",
    "            if message.is_spam:\n",
    "                self.spam_message += 1\n",
    "            else:\n",
    "                self.ham_messages += 1\n",
    "            \n",
    "            for token in tokenise(message.text):\n",
    "                self.tokens.add(token)\n",
    "                if message.is_spam:\n",
    "                    self.token_spam_counts[token] += 1\n",
    "                else:\n",
    "                    self.token_ham_counts[token] += 1\n",
    "\n",
    "    def _probabilities(self, token: str) -> Tuple[float, float]:\n",
    "        spam = self.token_spam_counts[token]\n",
    "        ham = self.token_ham_counts[token]\n",
    "        p_token_spam = (spam + self.k) / (self.spam_message + 2 * self.k)\n",
    "        p_token_ham = (ham + self.k) / (self.ham_messages + 2 * self.k)\n",
    "\n",
    "        return p_token_spam, p_token_ham\n",
    "    \n",
    "    def predict(self, text:str) -> float:\n",
    "        text_tokens = tokenise(text)\n",
    "        log_prob_if_spam = log_prob_if_ham = 0.0\n",
    "\n",
    "        for token in self.tokens:\n",
    "            prob_if_spam, prob_if_ham = self._probabilities(token)\n",
    "            \n",
    "            if token in text_tokens:\n",
    "                log_prob_if_spam += math.log(prob_if_spam)\n",
    "                log_prob_if_ham += math.log(prob_if_ham)\n",
    "            # if the word is not in the trained tokens, both spam and ham counts\n",
    "            # will be 0 which mean that p_token_ham and p_token_spam will also be low\n",
    "            # 1 - prob_if_spam will be closer to 1 which mean log( 1- prob_if_spam) will \n",
    "            # be closer to 0 reducing the relevance of the word on the final result\n",
    "            else:\n",
    "                log_prob_if_spam += math.log(1 - prob_if_spam)\n",
    "                log_prob_if_ham += math.log(1 - prob_if_ham)\n",
    "\n",
    "        prob_if_spam = math.exp(log_prob_if_spam)\n",
    "        prob_if_ham = math.exp(log_prob_if_ham)\n",
    "        return prob_if_spam/(prob_if_spam + prob_if_ham)"
   ]
  },
  {
   "cell_type": "code",
   "execution_count": 23,
   "metadata": {},
   "outputs": [
    {
     "name": "stdout",
     "output_type": "stream",
     "text": [
      "{'spam', 'rules', 'ham', 'hello'}\n",
      "1\n",
      "2\n",
      "defaultdict(<class 'int'>, {'spam': 1, 'rules': 1})\n",
      "defaultdict(<class 'int'>, {'rules': 1, 'ham': 2, 'hello': 1})\n",
      "0.9382239382239382\n"
     ]
    }
   ],
   "source": [
    "messages = [Message(\"spam rules\", is_spam = True),\n",
    "            Message(\"ham rules\", is_spam = False),\n",
    "            Message(\"hello ham\", is_spam = False)]\n",
    "\n",
    "model = NaiveBayerClassifier(k = 0.5)\n",
    "model.train(messages)\n",
    "\n",
    "print(model.tokens)\n",
    "print(model.spam_message)\n",
    "print(model.ham_messages)\n",
    "print(model.token_spam_counts)\n",
    "print(model.token_ham_counts)\n",
    "\n",
    "text = \"spam\"\n",
    "\n",
    "prob_if_spam = model.predict(text)\n",
    "\n",
    "print(prob_if_spam)"
   ]
  },
  {
   "cell_type": "code",
   "execution_count": 24,
   "metadata": {},
   "outputs": [],
   "source": [
    "from io import BytesIO # So we can treat bytes as a file.\n",
    "import requests # To download the files, which\n",
    "import tarfile # are in .tar.bz format.\n",
    "\n",
    "BASE_URL = \"https://spamassassin.apache.org/old/publiccorpus\"\n",
    "FILES = [\"20021010_easy_ham.tar.bz2\",\n",
    "\"20021010_hard_ham.tar.bz2\",\n",
    "\"20021010_spam.tar.bz2\"]\n",
    "\n",
    "# This is where the data will end up,\n",
    "# in /spam, /easy_ham, and /hard_ham subdirectories.\n",
    "# Change this to where you want the data.\n",
    "OUTPUT_DIR = 'spam_data'\n",
    "\n",
    "for filename in FILES:\n",
    "    # Use requests to get the file contents at each URL.\n",
    "    content = requests.get(f\"{BASE_URL}/{filename}\").content\n",
    "    # Wrap the in-memory bytes so we can use them as a \"file.\"\n",
    "    fin = BytesIO(content)\n",
    "    # And extract all the files to the specified output dir.\n",
    "    with tarfile.open(fileobj=fin, mode='r:bz2') as tf:\n",
    "        tf.extractall(OUTPUT_DIR)"
   ]
  },
  {
   "cell_type": "code",
   "execution_count": 25,
   "metadata": {},
   "outputs": [],
   "source": [
    "import glob, re\n",
    "\n",
    "# Modify this to point to where you put the files\n",
    "path = 'spam_data/*/*'\n",
    "\n",
    "data: List[Message] = []\n",
    "\n",
    "for filename in glob.glob(path):\n",
    "    is_spam = \"ham\" not in filename\n",
    "\n",
    "    with open(filename, errors = 'ignore') as email_file:\n",
    "        for line in email_file:\n",
    "            if line.startswith(\"Subject:\"):\n",
    "                subject = line.lstrip(\"Subject:\")\n",
    "                data.append(Message(subject, is_spam))\n",
    "                break"
   ]
  },
  {
   "cell_type": "code",
   "execution_count": null,
   "metadata": {},
   "outputs": [],
   "source": [
    "import random\n",
    "import library.MachineLearning as ml\n",
    "\n",
    "random.seed(0)\n",
    "\n",
    "train_data, test_data = ml.split_data(data, 0.75)\n",
    "\n",
    "model = NaiveBayerClassifier()\n",
    "model.train(train_data)"
   ]
  },
  {
   "cell_type": "code",
   "execution_count": 29,
   "metadata": {},
   "outputs": [
    {
     "name": "stdout",
     "output_type": "stream",
     "text": [
      "Counter({(False, False): 669, (True, True): 86, (True, False): 40, (False, True): 30})\n"
     ]
    }
   ],
   "source": [
    "from collections import Counter\n",
    "\n",
    "predictions = [(message, model.predict(message.text)) \n",
    "                for message in test_data]\n",
    "\n",
    "# Assume that spam prob > 0.5 corresponds to spam prediction\n",
    "# and count the combinations of (actual is_spam, predicted is_spam)\n",
    "confusion_matrix = Counter((message.is_spam, spam_prob > 0.5) \n",
    "                           for message, spam_prob in predictions )\n",
    "\n",
    "print(confusion_matrix)\n"
   ]
  },
  {
   "cell_type": "code",
   "execution_count": null,
   "metadata": {},
   "outputs": [],
   "source": [
    "def p_spam_given_token(token: str, model: NaiveBayerClassifier) -> float:\n",
    "    prob_if_spam, prob_if_ham = model._probabilities(token)\n",
    "\n",
    "    return prob_if_spam/(prob_if_ham + prob_if_spam)\n",
    "\n",
    "words = sorted(model.tokens, key = lambda t: p_spam_given_token(t, model))\n",
    "\n",
    "print(\"spammiest words\", words[-10:])\n",
    "print(\"hammiest words\", words[:10])"
   ]
  }
 ],
 "metadata": {
  "kernelspec": {
   "display_name": "env",
   "language": "python",
   "name": "python3"
  },
  "language_info": {
   "codemirror_mode": {
    "name": "ipython",
    "version": 3
   },
   "file_extension": ".py",
   "mimetype": "text/x-python",
   "name": "python",
   "nbconvert_exporter": "python",
   "pygments_lexer": "ipython3",
   "version": "3.12.1"
  }
 },
 "nbformat": 4,
 "nbformat_minor": 2
}
